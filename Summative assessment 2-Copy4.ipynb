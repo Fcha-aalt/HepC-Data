{
 "cells": [
  {
   "cell_type": "markdown",
   "id": "d7e6c497",
   "metadata": {},
   "source": [
    "# Deep Learning\n",
    "## Summative assessment\n",
    "### Coursework 2"
   ]
  },
  {
   "cell_type": "markdown",
   "id": "bedeb7a9",
   "metadata": {},
   "source": [
    "#### Instructions\n",
    "\n",
    "This coursework is released on **Wednesday 22nd February 9.00** and is due by **Wednesday 8th March 23.59**. It is worth **40%** of your overall mark. There are 4 questions in this assessment, and a total of 100 marks are available. **You should attempt to answer all questions.** In addition to the total number of marks per question below, an additional 10 marks is available for clarity of the code presented.\n",
    "\n",
    "This assessment assesses your ability to design, implement, train and evaluate a deep learning model for a classification task using sequence data.\n",
    "\n",
    "You can make imports as and when you need them throughout the notebook, and add code cells where necessary. Make sure your notebook executes correctly in sequence before submitting.\n",
    "\n",
    "#### Submission instructions\n",
    "\n",
    "The submission for this assessment will consist of a notebook (.ipynb file) and a PDF submission.\n",
    "\n",
    "Ensure your notebook executes correctly in order. Save your notebook .ipynb file **after you have executed it** (so that outputs are all showing). It is recommended to also submit a PDF copy of your executed notebook, in case the .ipynb file is corrupted for some reason. \n",
    "\n",
    "Upload a zip file containing your notebook and separate PDF file(s) to Coursera by the deadline above."
   ]
  },
  {
   "cell_type": "code",
   "execution_count": 1,
   "metadata": {},
   "outputs": [
    {
     "name": "stdout",
     "output_type": "stream",
     "text": [
      "Requirement already satisfied: pandas in /usr/local/lib/python3.8/dist-packages (1.5.3)\n",
      "Requirement already satisfied: pytz>=2020.1 in /usr/local/lib/python3.8/dist-packages (from pandas) (2022.7.1)\n",
      "Requirement already satisfied: python-dateutil>=2.8.1 in /usr/local/lib/python3.8/dist-packages (from pandas) (2.8.2)\n",
      "Requirement already satisfied: numpy>=1.20.3 in /usr/local/lib/python3.8/dist-packages (from pandas) (1.23.4)\n",
      "Requirement already satisfied: six>=1.5 in /usr/lib/python3/dist-packages (from python-dateutil>=2.8.1->pandas) (1.14.0)\n",
      "\u001b[33mWARNING: Running pip as the 'root' user can result in broken permissions and conflicting behaviour with the system package manager. It is recommended to use a virtual environment instead: https://pip.pypa.io/warnings/venv\u001b[0m\u001b[33m\n",
      "\u001b[0m\n",
      "\u001b[1m[\u001b[0m\u001b[34;49mnotice\u001b[0m\u001b[1;39;49m]\u001b[0m\u001b[39;49m A new release of pip available: \u001b[0m\u001b[31;49m22.3.1\u001b[0m\u001b[39;49m -> \u001b[0m\u001b[32;49m23.0.1\u001b[0m\n",
      "\u001b[1m[\u001b[0m\u001b[34;49mnotice\u001b[0m\u001b[1;39;49m]\u001b[0m\u001b[39;49m To update, run: \u001b[0m\u001b[32;49mpython3 -m pip install --upgrade pip\u001b[0m\n",
      "Note: you may need to restart the kernel to use updated packages.\n"
     ]
    }
   ],
   "source": [
    "pip install pandas"
   ]
  },
  {
   "cell_type": "code",
   "execution_count": 2,
   "id": "0942eeef",
   "metadata": {
    "scrolled": true
   },
   "outputs": [
    {
     "name": "stdout",
     "output_type": "stream",
     "text": [
      "Requirement already satisfied: seaborn in /usr/local/lib/python3.8/dist-packages (0.12.2)\n",
      "Requirement already satisfied: numpy!=1.24.0,>=1.17 in /usr/local/lib/python3.8/dist-packages (from seaborn) (1.23.4)\n",
      "Requirement already satisfied: matplotlib!=3.6.1,>=3.1 in /usr/local/lib/python3.8/dist-packages (from seaborn) (3.6.2)\n",
      "Requirement already satisfied: pandas>=0.25 in /usr/local/lib/python3.8/dist-packages (from seaborn) (1.5.3)\n",
      "Requirement already satisfied: packaging>=20.0 in /usr/local/lib/python3.8/dist-packages (from matplotlib!=3.6.1,>=3.1->seaborn) (21.3)\n",
      "Requirement already satisfied: kiwisolver>=1.0.1 in /usr/local/lib/python3.8/dist-packages (from matplotlib!=3.6.1,>=3.1->seaborn) (1.4.4)\n",
      "Requirement already satisfied: cycler>=0.10 in /usr/local/lib/python3.8/dist-packages (from matplotlib!=3.6.1,>=3.1->seaborn) (0.11.0)\n",
      "Requirement already satisfied: pillow>=6.2.0 in /usr/local/lib/python3.8/dist-packages (from matplotlib!=3.6.1,>=3.1->seaborn) (9.3.0)\n",
      "Requirement already satisfied: pyparsing>=2.2.1 in /usr/local/lib/python3.8/dist-packages (from matplotlib!=3.6.1,>=3.1->seaborn) (3.0.9)\n",
      "Requirement already satisfied: fonttools>=4.22.0 in /usr/local/lib/python3.8/dist-packages (from matplotlib!=3.6.1,>=3.1->seaborn) (4.38.0)\n",
      "Requirement already satisfied: python-dateutil>=2.7 in /usr/local/lib/python3.8/dist-packages (from matplotlib!=3.6.1,>=3.1->seaborn) (2.8.2)\n",
      "Requirement already satisfied: contourpy>=1.0.1 in /usr/local/lib/python3.8/dist-packages (from matplotlib!=3.6.1,>=3.1->seaborn) (1.0.6)\n",
      "Requirement already satisfied: pytz>=2020.1 in /usr/local/lib/python3.8/dist-packages (from pandas>=0.25->seaborn) (2022.7.1)\n",
      "Requirement already satisfied: six>=1.5 in /usr/lib/python3/dist-packages (from python-dateutil>=2.7->matplotlib!=3.6.1,>=3.1->seaborn) (1.14.0)\n",
      "\u001b[33mWARNING: Running pip as the 'root' user can result in broken permissions and conflicting behaviour with the system package manager. It is recommended to use a virtual environment instead: https://pip.pypa.io/warnings/venv\u001b[0m\u001b[33m\n",
      "\u001b[0m\n",
      "\u001b[1m[\u001b[0m\u001b[34;49mnotice\u001b[0m\u001b[1;39;49m]\u001b[0m\u001b[39;49m A new release of pip available: \u001b[0m\u001b[31;49m22.3.1\u001b[0m\u001b[39;49m -> \u001b[0m\u001b[32;49m23.0.1\u001b[0m\n",
      "\u001b[1m[\u001b[0m\u001b[34;49mnotice\u001b[0m\u001b[1;39;49m]\u001b[0m\u001b[39;49m To update, run: \u001b[0m\u001b[32;49mpython -m pip install --upgrade pip\u001b[0m\n",
      "Requirement already satisfied: nltk in /usr/local/lib/python3.8/dist-packages (3.8.1)\n",
      "Requirement already satisfied: joblib in /usr/local/lib/python3.8/dist-packages (from nltk) (1.2.0)\n",
      "Requirement already satisfied: regex>=2021.8.3 in /usr/local/lib/python3.8/dist-packages (from nltk) (2022.10.31)\n",
      "Requirement already satisfied: tqdm in /usr/local/lib/python3.8/dist-packages (from nltk) (4.64.1)\n",
      "Requirement already satisfied: click in /usr/local/lib/python3.8/dist-packages (from nltk) (8.1.3)\n",
      "\u001b[33mWARNING: Running pip as the 'root' user can result in broken permissions and conflicting behaviour with the system package manager. It is recommended to use a virtual environment instead: https://pip.pypa.io/warnings/venv\u001b[0m\u001b[33m\n",
      "\u001b[0m\n",
      "\u001b[1m[\u001b[0m\u001b[34;49mnotice\u001b[0m\u001b[1;39;49m]\u001b[0m\u001b[39;49m A new release of pip available: \u001b[0m\u001b[31;49m22.3.1\u001b[0m\u001b[39;49m -> \u001b[0m\u001b[32;49m23.0.1\u001b[0m\n",
      "\u001b[1m[\u001b[0m\u001b[34;49mnotice\u001b[0m\u001b[1;39;49m]\u001b[0m\u001b[39;49m To update, run: \u001b[0m\u001b[32;49mpython -m pip install --upgrade pip\u001b[0m\n"
     ]
    }
   ],
   "source": [
    "# You will need the following imports for this assessment. You can make additional imports when you need them\n",
    "import tensorflow as tf\n",
    "import numpy as np\n",
    "import matplotlib.pyplot as plt\n",
    "import pandas as pd\n",
    "import os\n",
    "\n",
    "from tensorflow.keras.models import Sequential\n",
    "from tensorflow.keras.layers import (TextVectorization, Dense, MultiHeadAttention, LayerNormalization, \n",
    "                                     Layer, Embedding, Dropout, GlobalAveragePooling1D)\n",
    "import matplotlib.pyplot as plt\n",
    "!pip install seaborn\n",
    "!pip install nltk\n",
    "import seaborn as sns"
   ]
  },
  {
   "cell_type": "markdown",
   "id": "7edcd578",
   "metadata": {},
   "source": [
    "#### The Movies Dataset\n",
    "\n",
    "This assessment makes use of the [Kaggle Movies Dataset](https://www.kaggle.com/datasets/rounakbanik/the-movies-dataset). This dataset consists of metadata for all 45,000 movies listed in the Full MovieLens Dataset.\n",
    "\n",
    "The following cell will load the `movies_metadata` CSV file of the dataset, which is provided for you."
   ]
  },
  {
   "cell_type": "code",
   "execution_count": 3,
   "id": "7ebe0cc4",
   "metadata": {},
   "outputs": [],
   "source": [
    "movies_metadata = pd.read_csv(os.path.join('data', 'movies_metadata.csv'))"
   ]
  },
  {
   "cell_type": "code",
   "execution_count": 4,
   "id": "935a3e43",
   "metadata": {},
   "outputs": [
    {
     "data": {
      "text/plain": [
       "(45466, 24)"
      ]
     },
     "execution_count": 4,
     "metadata": {},
     "output_type": "execute_result"
    }
   ],
   "source": [
    "movies_metadata.shape"
   ]
  },
  {
   "cell_type": "code",
   "execution_count": 5,
   "id": "c9be7868",
   "metadata": {},
   "outputs": [
    {
     "name": "stdout",
     "output_type": "stream",
     "text": [
      "5351     [{'id': 35, 'name': 'Comedy'}, {'id': 18, 'nam...\n",
      "17590                        [{'id': 18, 'name': 'Drama'}]\n",
      "Name: genres, dtype: object\n"
     ]
    }
   ],
   "source": [
    "print(movies_metadata['genres'].sample(2))"
   ]
  },
  {
   "cell_type": "markdown",
   "id": "8023241f",
   "metadata": {},
   "source": [
    "Your task in this assessment is to develop a deep learning model to predict the genre(s) of a film from its description. The columns you will need from the `movies_metadata` CSV are `genres` and `overview`. Note that a film may have more than one genre label in this dataset.\n",
    "\n",
    "For this assessment, you should choose **one** of the following deep learning architectures to use for this task:\n",
    "\n",
    "* Convolutional neural network (CNN)\n",
    "* Recurrent neural network (RNN)\n",
    "* Transformer\n",
    "\n",
    "You will need to design an appropriate architecture, tune chosen hyperparameters, and train your model, ensuring it is properly validated and regularised. In addition, you will evaluate the model performance and provide a report of your model development."
   ]
  },
  {
   "cell_type": "markdown",
   "id": "88838a0b",
   "metadata": {},
   "source": [
    "### Question 1 (Total 30 marks)"
   ]
  },
  {
   "cell_type": "markdown",
   "id": "15773a28",
   "metadata": {},
   "source": [
    "a) The entries in the `overview` column in the `movies_metadata` DataFrame will be the inputs, and the entries in `genres` will be the targets. Note that there may be multiple genre labels per film.\n",
    "\n",
    "The data in the `movies_metadata` DataFrame should be preprocessed as follows:\n",
    "\n",
    "* Rows with `NaN` values in the `overview` column should be dropped from the DataFrame\n",
    "* The data should be split into a suitable train/validation/test partition (you can use `sklearn` for this)\n",
    "* Build the following numpy arrays for the training/validation/test inputs and outputs:\n",
    "    * The numpy arrays `X_train`, `X_val`, `X_test` should contain the text inputs from the train/validation/test split respectively\n",
    "    * The numpy arrays `y_train`, `y_val`, `y_test` should contain the corresponding binary labels as _multi-hot vectors_. These are binary vectors, with ones in the position(s) where the corresponding label applies \n",
    "        * The output arrays should have type `np.float32`\n",
    "        * There are some genre labels that are only used once in the whole dataset. These should be discarded\n",
    "        * The function `parse_genres` below can be used to parse the contents of the `genres` column into python lists\n",
    "\n",
    "Print out the list of genre names that will be used. Print the shape of each of the above arrays.\n",
    "\n",
    "Load the above numpy arrays into three `tf.data.Dataset` objects for training, validation and testing. Each dataset should return a tuple containing the text input and the multi-hot vector as output. Print out the element_spec of one of the `tf.data.Dataset` objects.\n",
    "\n",
    "(17 marks)"
   ]
  },
  {
   "cell_type": "code",
   "execution_count": 6,
   "id": "0c16938a",
   "metadata": {},
   "outputs": [],
   "source": [
    "# The following helper function will parse a single cell in the 'genres' column to return a python list\n",
    "\n",
    "# import necessary libraries\n",
    "import json\n",
    "from sklearn.model_selection import train_test_split\n",
    "\n",
    "def parse_genres(cell_text):\n",
    "    \"\"\"\n",
    "    Helper function to parse a single cell in the 'genres' column and return a list of genres.\n",
    "\n",
    "    Args:\n",
    "        cell_text (str): A string representing a single cell in the 'genres' column.\n",
    "\n",
    "    Returns:\n",
    "        A list of genres extracted from the input cell text.\n",
    "    \"\"\"\n",
    "    return [genre['name'] for genre in json.loads(cell_text.replace(\"'\", '\"'))]\n"
   ]
  },
  {
   "cell_type": "markdown",
   "metadata": {},
   "source": [
    "Explanation of each step below:\n",
    "\n",
    "1. Label the CSV file as df and keep only the required columns.\n",
    "2. Drop rows with NaN values in the overview column and print the number of rows dropped.\n",
    "3. Extract the unique genres from the genre column.\n",
    "4. Count the number of times each genre appears in the dataset and identify genres that are only used once. Print the discarded genres.\n",
    "5. Print out a pandas Series object with the frequency of each genre in the remaining dataset"
   ]
  },
  {
   "cell_type": "code",
   "execution_count": 7,
   "id": "d84fb9a8",
   "metadata": {
    "scrolled": true
   },
   "outputs": [
    {
     "name": "stdout",
     "output_type": "stream",
     "text": [
      "Dropped 954 rows with NaN values in the overview column\n",
      "Dropped 0 rows with NaN values in the genre column\n",
      "Discarded 12 genre labels that were used only once:\n",
      "['Carousel Productions', 'Vision View Entertainment', 'Telescene Film Group Productions', 'Aniplex', 'GoHands', 'BROSTA TV', 'Mardock Scramble Production Committee', 'Sentai Filmworks', 'Odyssey Media', 'Pulser Productions', 'Rogue State', 'The Cartel']\n",
      "Drama              20023\n",
      "Comedy             12806\n",
      "Thriller            7586\n",
      "Romance             6673\n",
      "Action              6565\n",
      "Horror              4660\n",
      "Crime               4269\n",
      "Documentary         3886\n",
      "Adventure           3470\n",
      "Science Fiction     3028\n",
      "Family              2732\n",
      "Mystery             2451\n",
      "Fantasy             2290\n",
      "Animation           1920\n",
      "Foreign             1599\n",
      "Music               1588\n",
      "History             1379\n",
      "War                 1310\n",
      "Western             1035\n",
      "TV Movie             751\n",
      "Name: genres, dtype: int64\n"
     ]
    },
    {
     "data": {
      "image/png": "[encoded data removed]",
      "text/plain": [
       "<Figure size 1000x600 with 1 Axes>"
      ]
     },
     "metadata": {},
     "output_type": "display_data"
    }
   ],
   "source": [
    "df = movies_metadata\n",
    "\n",
    "# Keep only the required columns\n",
    "df = df[['genres', 'overview']]\n",
    "\n",
    "# Drop rows with NaN values in the overview column\n",
    "num_nan = df['overview'].isnull().sum()\n",
    "df.dropna(subset=['overview'], inplace=True)\n",
    "print(f\"Dropped {num_nan} rows with NaN values in the overview column\")\n",
    "\n",
    "# Drop rows with NaN values in the genre column\n",
    "num_nan = df['genres'].isnull().sum()\n",
    "df.dropna(subset=['genres'], inplace=True)\n",
    "print(f\"Dropped {num_nan} rows with NaN values in the genre column\")\n",
    "\n",
    "# Extract unique genres and remove genres that are only used once\n",
    "'''\n",
    "we first create a Series object with each individual genre, including duplicates. \n",
    "Then we count the frequency of each genre and identify the genres that appear only once.\n",
    "Next, we define a function remove_single_use_genres that takes a genre label as input and returns the \n",
    "label with the single-use genres removed. \n",
    "We apply this function to the entire 'genres' column using df['genres'].apply(remove_single_use_genres). \n",
    "This will remove any genre label that contains a single-use genre.\n",
    "Finally, we drop any rows with NaN values in the 'genres' column, as some genre labels may have been \n",
    "removed entirely.\n",
    "'''\n",
    "genres = df['genres'].apply(lambda x: [i['name'] for i in eval(x)] if isinstance(x, str) else []).explode()\n",
    "genre_counts = genres.value_counts()\n",
    "single_use_genres = genre_counts[genre_counts == 1].index.tolist()\n",
    "\n",
    "def remove_single_use_genres(genre_label):\n",
    "    genre_list = eval(genre_label)\n",
    "    new_genre_list = [genre for genre in genre_list if genre['name'] not in single_use_genres]\n",
    "    if new_genre_list:\n",
    "        return str(new_genre_list)\n",
    "    else:\n",
    "        return np.nan\n",
    "\n",
    "df['genres'] = df['genres'].apply(remove_single_use_genres)\n",
    "df.dropna(subset=['genres'], inplace=True)\n",
    "\n",
    "print(f\"Discarded {len(single_use_genres)} genre labels that were used only once:\")\n",
    "print(single_use_genres)\n",
    "\n",
    "# Count the frequency of each genre\n",
    "genres = df['genres'].apply(lambda x: [i['name'] for i in eval(x)] if isinstance(x, str) else []).explode()\n",
    "genre_counts = genres.value_counts()\n",
    "\n",
    "# Print the list of remaining genre labels and their frequency\n",
    "print(genre_counts)\n",
    "\n",
    "# create dictionary of genre frequencies\n",
    "genre_counts = genre_counts.to_dict()\n",
    "\n",
    "# sort genres by frequency in descending order\n",
    "sorted_genres = sorted(genre_counts.items(), key=lambda x: x[1], reverse=True)\n",
    "\n",
    "# create bar plot\n",
    "plt.figure(figsize=(10, 6))\n",
    "ax = sns.barplot(x=[x[0] for x in sorted_genres], y=[x[1] for x in sorted_genres])\n",
    "ax.set_xticklabels(ax.get_xticklabels(), rotation=45, ha=\"right\")\n",
    "plt.tight_layout()\n",
    "ax.set_title('Frequency of Genres in Dataset', fontsize=14)\n",
    "ax.set_xlabel('Genre', fontsize=12)\n",
    "ax.set_ylabel('Frequency', fontsize=12)\n",
    "plt.show()"
   ]
  },
  {
   "cell_type": "code",
   "execution_count": 8,
   "id": "f3b5bc62",
   "metadata": {},
   "outputs": [],
   "source": [
    "from sklearn.model_selection import train_test_split\n",
    "import numpy as np\n",
    "\n",
    "# Split the data into train/validation/test sets\n",
    "train_data, test_data = train_test_split(df, test_size=0.2)\n",
    "train_data, val_data = train_test_split(train_data, test_size=0.1)\n",
    "\n",
    "# Convert genre labels to multi-hot vectors\n",
    "genres = sorted(list(set([genre for genres in df['genres'].apply(parse_genres) for genre in genres])))\n",
    "genre_to_int = dict(zip(genres, range(len(genres))))\n",
    "def parse_labels(cell_text):\n",
    "    \"\"\"\n",
    "    Helper function to parse a single cell in the 'genres' column and return a multi-hot label vector.\n",
    "\n",
    "    Args:\n",
    "        cell_text (str): A string representing a single cell in the 'genres' column.\n",
    "\n",
    "    Returns:\n",
    "        A binary vector with ones in the positions where the corresponding genre applies.\n",
    "    \"\"\"\n",
    "    genre_list = parse_genres(cell_text)\n",
    "    label_vector = np.zeros(len(genres), dtype=np.float32)\n",
    "    for genre in genre_list:\n",
    "        label_vector[genre_to_int[genre]] = 1.0\n",
    "    return label_vector\n",
    "\n",
    "# Create numpy arrays for the inputs and outputs for the train/validation/test sets\n",
    "X_train = train_data['overview'].values.astype('U')\n",
    "y_train = np.array([parse_labels(cell_text) for cell_text in train_data['genres'].values], dtype=np.float32)\n",
    "X_val = val_data['overview'].values.astype('U')\n",
    "y_val = np.array([parse_labels(cell_text) for cell_text in val_data['genres'].values], dtype=np.float32)\n",
    "X_test = test_data['overview'].values.astype('U')\n",
    "y_test = np.array([parse_labels(cell_text) for cell_text in test_data['genres'].values], dtype=np.float32)\n"
   ]
  },
  {
   "cell_type": "code",
   "execution_count": 9,
   "id": "153f311b",
   "metadata": {},
   "outputs": [
    {
     "name": "stdout",
     "output_type": "stream",
     "text": [
      "List of genre names:\n",
      "Action\n",
      "Adventure\n",
      "Animation\n",
      "Comedy\n",
      "Crime\n",
      "Documentary\n",
      "Drama\n",
      "Family\n",
      "Fantasy\n",
      "Foreign\n",
      "History\n",
      "Horror\n",
      "Music\n",
      "Mystery\n",
      "Romance\n",
      "Science Fiction\n",
      "TV Movie\n",
      "Thriller\n",
      "War\n",
      "Western\n",
      "\n",
      "Shape of X_train: (30473,)\n",
      "Shape of y_train: (30473, 20)\n",
      "Shape of X_val: (3386,)\n",
      "Shape of y_val: (3386, 20)\n",
      "Shape of X_test: (8465,)\n",
      "Shape of y_test: (8465, 20)\n"
     ]
    }
   ],
   "source": [
    "# Print the list of genre names\n",
    "print(\"List of genre names:\")\n",
    "for genre in genre_to_int:\n",
    "    print(genre)\n",
    "\n",
    "# Print the shape of each array\n",
    "print(\"\\nShape of X_train:\", X_train.shape)\n",
    "print(\"Shape of y_train:\", y_train.shape)\n",
    "print(\"Shape of X_val:\", X_val.shape)\n",
    "print(\"Shape of y_val:\", y_val.shape)\n",
    "print(\"Shape of X_test:\", X_test.shape)\n",
    "print(\"Shape of y_test:\", y_test.shape)\n"
   ]
  },
  {
   "cell_type": "code",
   "execution_count": 10,
   "id": "0e0e9d58",
   "metadata": {},
   "outputs": [
    {
     "name": "stdout",
     "output_type": "stream",
     "text": [
      "\n",
      "Element_spec of train_dataset: (TensorSpec(shape=(), dtype=tf.string, name=None), TensorSpec(shape=(20,), dtype=tf.float32, name=None))\n"
     ]
    }
   ],
   "source": [
    "# Load the data into tf.data.Dataset objects\n",
    "train_dataset = tf.data.Dataset.from_tensor_slices((X_train, y_train))\n",
    "val_dataset = tf.data.Dataset.from_tensor_slices((X_val, y_val))\n",
    "test_dataset = tf.data.Dataset.from_tensor_slices((X_test, y_test))\n",
    "\n",
    "# Print the element_spec of one of the datasets\n",
    "print(\"\\nElement_spec of train_dataset:\", train_dataset.element_spec)"
   ]
  },
  {
   "cell_type": "markdown",
   "id": "693274f0",
   "metadata": {},
   "source": [
    "b) Create a `TextVectorization` layer that will be used to tokenize the input sentences. The `TextVectorization` layer should be configured to the Dataset object used for training\n",
    "    \n",
    "The Dataset objects should then be processed as follows, using the `map` and `filter` methods as appropriate:\n",
    "\n",
    "* The inputs should tokenized using the `TextVectorization` layer, so they are of `tf.int64` type\n",
    "* Any data example with an empty token input sequence should be filtered out\n",
    "* Any data examples without a genre label should be filtered out\n",
    "* The `Dataset` objects should be shuffled and batched as appropriate\n",
    "  \n",
    "Print out the element_spec of one of the `tf.data.Dataset` objects.\n",
    "\n",
    "(13 marks)"
   ]
  },
  {
   "cell_type": "markdown",
   "metadata": {},
   "source": [
    "I chose 5000 as the max_tokens value based on the assumption that this value would be sufficient to cover most of the frequently occurring words in the dataset. In practice, the choice of this value can be influenced by factors such as the size of the dataset, the nature of the text data, and the computational resources available.\n",
    "\n",
    "In this case, the movies dataset contains a relatively large number of unique words, but most of these words occur infrequently. Therefore, by setting the max_tokens value to 5000, we can limit the number of tokens to those that occur frequently in the dataset, while ignoring the less frequent ones. This can help to reduce the dimensionality of the input data, which can lead to more efficient training of the model.\n",
    "\n",
    "The output_sequence_length value of 300 was chosen arbitrarily based on the typical length of the movie overviews in the dataset. This value may need to be adjusted based on the specific requirements of the problem being solved."
   ]
  },
  {
   "cell_type": "code",
   "execution_count": 11,
   "metadata": {},
   "outputs": [
    {
     "name": "stdout",
     "output_type": "stream",
     "text": [
      "\n",
      "Element_spec of train_dataset: (TensorSpec(shape=(None, None), dtype=tf.int64, name=None), TensorSpec(shape=(None, 20), dtype=tf.float32, name=None))\n"
     ]
    }
   ],
   "source": [
    "import tensorflow as tf\n",
    "from tensorflow.keras.layers.experimental.preprocessing import TextVectorization\n",
    "from tensorflow.keras.layers import Dense\n",
    "from tensorflow.keras import Sequential\n",
    "from tensorflow.keras import layers\n",
    "from tensorflow.keras.preprocessing.sequence import pad_sequences\n",
    "\n",
    "# Compute the maximum sequence length \n",
    "pad = df['overview'].map(len).max()\n",
    "\n",
    "# Define a function to create and configure the TextVectorization layer\n",
    "def create_text_vectorization_layer(train_data, max_tokens=pad, output_mode='int'):\n",
    "    # Create a TextVectorization layer\n",
    "    text_vectorization_layer = TextVectorization(max_tokens=max_tokens, output_mode=output_mode)\n",
    "    # Adapt the layer to the training data\n",
    "    text_vectorization_layer.adapt(train_data)\n",
    "    return text_vectorization_layer\n",
    "\n",
    "# Create and configure the TextVectorization layer\n",
    "text_vectorization_layer = create_text_vectorization_layer(train_dataset.map(lambda text, label: text))\n",
    "\n",
    "# Define a function to preprocess the datasets using the TextVectorization layer and pad_sequences\n",
    "@tf.autograph.experimental.do_not_convert\n",
    "def preprocess_dataset(dataset, text_vectorization_layer, max_seq_len, batch_size, shuffle_buffer_size):\n",
    "    def _inputs_and_targets(batch):\n",
    "        inputs = batch[0]\n",
    "        labels = batch[1]\n",
    "        return inputs, labels\n",
    "    \n",
    "    def _integer_tokens(example):\n",
    "        inputs, labels = example\n",
    "        return text_vectorization_layer(inputs), labels\n",
    "    \n",
    "    def _filter_empty_inputs(example):\n",
    "        inputs, labels = example\n",
    "        return tf.not_equal(tf.shape(inputs)[0], 0)\n",
    "    \n",
    "    def _filter_empty_labels(example):\n",
    "        inputs, labels = example\n",
    "        return tf.not_equal(tf.reduce_sum(labels), 0)\n",
    "    \n",
    "    def _truncate_seq(example):\n",
    "        inputs, labels = example\n",
    "        return inputs[:max_seq_len], labels\n",
    "\n",
    "    dataset = dataset.map(lambda x, y: _inputs_and_targets((x, y)))\\\n",
    "                     .map(lambda x, y: _integer_tokens((x, y)))\\\n",
    "                     .filter(lambda x, y: _filter_empty_inputs((x, y)))\\\n",
    "                     .filter(lambda x, y: _filter_empty_labels((x, y)))\\\n",
    "                     .map(lambda x, y: _truncate_seq((x, y)))\n",
    "    \n",
    "    dataset = dataset.shuffle(shuffle_buffer_size).padded_batch(batch_size)\n",
    "    dataset = dataset.prefetch(tf.data.AUTOTUNE)\n",
    "    \n",
    "    return dataset\n",
    "\n",
    "batch_size = 32\n",
    "shuffle_buffer_size = 10000\n",
    "# Preprocess the datasets using the TextVectorization layer and pad_sequences\n",
    "train_dataset = preprocess_dataset(train_dataset, text_vectorization_layer, max_seq_len=pad, batch_size=batch_size, shuffle_buffer_size=shuffle_buffer_size)\n",
    "\n",
    "validation_dataset = preprocess_dataset(val_dataset, text_vectorization_layer, max_seq_len=pad, batch_size=batch_size, shuffle_buffer_size=shuffle_buffer_size)\n",
    "\n",
    "test_dataset = preprocess_dataset(test_dataset, text_vectorization_layer, max_seq_len=pad, batch_size=batch_size, shuffle_buffer_size=shuffle_buffer_size)\n",
    "# Print the element_spec of one of the datasets\n",
    "print(\"\\nElement_spec of train_dataset:\", train_dataset.element_spec)\n"
   ]
  },
  {
   "cell_type": "code",
   "execution_count": null,
   "metadata": {},
   "outputs": [],
   "source": []
  },
  {
   "cell_type": "code",
   "execution_count": null,
   "metadata": {
    "scrolled": false
   },
   "outputs": [],
   "source": []
  },
  {
   "cell_type": "markdown",
   "metadata": {},
   "source": [
    "**Test of TextVectorization layer**\n",
    "The code is taking 2 random examples from the training dataset, then it prints out the tokenized versions of the texts using the TextVectorization layer, which was previously configured.\n",
    "\n",
    "For each example, the output is a tensor with the same shape, which is the output sequence length specified in the TextVectorization layer. The tensor contains the integer tokens of the words in the text.\n",
    "\n",
    "The integers represent the position of the token in the vocabulary, which is built by the TextVectorization layer from the training dataset. So, each integer corresponds to a unique word or character in the training data.\n",
    "\n",
    "Since the text sequences are padded or truncated to the specified output sequence length, some integers in the tensor may be zero. These correspond to the padding tokens, which are added to the beginning or end of the sequence to make it the desired length.\n",
    "\n",
    "**Result**\n",
    "The test showed that the vectorizer function is working correctly, as it tokenized the input sentences and converted them to integer sequences."
   ]
  },
  {
   "cell_type": "code",
   "execution_count": 12,
   "id": "50a44792",
   "metadata": {},
   "outputs": [
    {
     "name": "stdout",
     "output_type": "stream",
     "text": [
      "\n",
      "Element_spec of train_dataset: (TensorSpec(shape=(None, None), dtype=tf.int64, name=None), TensorSpec(shape=(None, 20), dtype=tf.float32, name=None))\n"
     ]
    }
   ],
   "source": [
    "# Print the element_spec of one of the datasets\n",
    "print(\"\\nElement_spec of train_dataset:\", train_dataset.element_spec)\n"
   ]
  },
  {
   "cell_type": "markdown",
   "metadata": {},
   "source": [
    "The element_spec of processed train_ds shows that it is a tuple containing two elements. \n",
    "The first element is a tensor of shape (None, output_sequence_length), where None indicates that the length of the sequences can vary, and output_sequence_length is the fixed length of the token sequences after padding. \n",
    "The second element is a tensor of shape (num_genres,), where num_genres is the total number of unique genres in the dataset. This tensor contains the binary labels as multi-hot vectors for each example in the batch."
   ]
  },
  {
   "cell_type": "code",
   "execution_count": 13,
   "id": "73b5156c",
   "metadata": {},
   "outputs": [
    {
     "name": "stdout",
     "output_type": "stream",
     "text": [
      "Inputs:\n",
      " tf.Tensor(\n",
      "[[  1   1   1 ...   0   0   0]\n",
      " [ 33   1 748 ...   0   0   0]\n",
      " [826   1   1 ...   1   6   1]\n",
      " ...\n",
      " [  1 217   5 ...   0   0   0]\n",
      " [499   1 324 ...   0   0   0]\n",
      " [  3   1  50 ...   0   0   0]], shape=(32, 113), dtype=int64)\n",
      "\n",
      "Targets:\n",
      " tf.Tensor(\n",
      "[[1. 0. 0. 0. 0. 0. 1. 0. 0. 0. 0. 0. 0. 0. 0. 0. 0. 0. 0. 1.]\n",
      " [0. 0. 0. 0. 0. 1. 0. 0. 0. 0. 0. 0. 0. 0. 0. 0. 0. 0. 0. 0.]\n",
      " [0. 0. 0. 1. 0. 0. 0. 0. 0. 0. 0. 0. 0. 0. 0. 0. 0. 0. 0. 0.]\n",
      " [1. 0. 1. 0. 0. 0. 0. 0. 0. 0. 0. 0. 0. 0. 0. 1. 0. 0. 0. 0.]\n",
      " [0. 0. 0. 0. 0. 1. 0. 0. 0. 0. 0. 0. 0. 0. 0. 0. 0. 0. 0. 0.]\n",
      " [0. 0. 0. 0. 0. 0. 1. 0. 0. 0. 0. 0. 0. 0. 0. 0. 0. 0. 0. 0.]\n",
      " [1. 0. 0. 1. 0. 0. 0. 0. 0. 0. 0. 1. 0. 0. 0. 0. 0. 0. 0. 0.]\n",
      " [0. 0. 0. 1. 0. 0. 0. 0. 0. 0. 0. 0. 0. 0. 0. 0. 0. 0. 0. 0.]\n",
      " [1. 1. 0. 1. 0. 0. 0. 0. 0. 0. 0. 0. 0. 0. 0. 0. 0. 1. 0. 0.]\n",
      " [0. 0. 0. 1. 0. 0. 0. 0. 0. 0. 0. 0. 0. 0. 1. 0. 0. 0. 0. 0.]\n",
      " [0. 0. 0. 0. 0. 0. 0. 0. 0. 0. 0. 1. 0. 0. 0. 0. 0. 0. 0. 0.]\n",
      " [0. 0. 0. 1. 0. 0. 1. 0. 0. 0. 0. 0. 0. 0. 0. 0. 0. 0. 0. 0.]\n",
      " [0. 0. 0. 0. 0. 0. 1. 0. 0. 1. 0. 0. 0. 0. 0. 0. 0. 0. 0. 0.]\n",
      " [0. 0. 0. 0. 0. 0. 1. 0. 0. 0. 0. 0. 0. 0. 0. 0. 0. 0. 1. 0.]\n",
      " [0. 1. 0. 0. 0. 0. 1. 0. 0. 0. 0. 0. 0. 0. 0. 0. 0. 1. 0. 0.]\n",
      " [0. 0. 0. 1. 1. 0. 1. 0. 0. 0. 0. 0. 0. 1. 0. 0. 0. 1. 0. 0.]\n",
      " [0. 0. 0. 0. 0. 0. 1. 0. 0. 0. 0. 0. 0. 0. 0. 0. 0. 0. 1. 0.]\n",
      " [0. 0. 0. 0. 0. 1. 0. 0. 0. 0. 0. 0. 0. 0. 0. 0. 0. 0. 0. 0.]\n",
      " [0. 0. 0. 0. 0. 0. 1. 0. 0. 0. 0. 0. 0. 0. 0. 0. 0. 1. 0. 0.]\n",
      " [0. 0. 0. 0. 0. 0. 1. 0. 0. 0. 0. 0. 0. 0. 1. 0. 0. 0. 0. 0.]\n",
      " [0. 0. 0. 0. 0. 0. 1. 0. 0. 0. 0. 0. 0. 0. 0. 0. 0. 0. 1. 0.]\n",
      " [0. 0. 0. 0. 0. 0. 1. 0. 0. 0. 0. 0. 0. 0. 0. 0. 0. 0. 0. 0.]\n",
      " [0. 0. 0. 1. 0. 0. 0. 0. 0. 0. 0. 0. 0. 0. 0. 0. 0. 0. 0. 0.]\n",
      " [0. 0. 0. 0. 0. 0. 1. 0. 0. 0. 0. 0. 0. 0. 0. 0. 0. 0. 0. 0.]\n",
      " [1. 0. 0. 0. 0. 0. 0. 0. 0. 0. 1. 0. 0. 0. 0. 0. 0. 0. 1. 0.]\n",
      " [0. 0. 0. 1. 0. 0. 0. 0. 1. 0. 0. 0. 0. 0. 0. 0. 0. 0. 0. 0.]\n",
      " [0. 0. 0. 0. 0. 0. 0. 0. 0. 0. 0. 0. 0. 0. 0. 0. 0. 0. 0. 1.]\n",
      " [0. 0. 0. 0. 0. 1. 0. 0. 0. 0. 0. 0. 0. 0. 0. 0. 0. 0. 0. 0.]\n",
      " [0. 0. 0. 1. 0. 0. 0. 0. 0. 0. 0. 0. 0. 0. 1. 0. 0. 0. 0. 0.]\n",
      " [1. 1. 0. 0. 0. 0. 0. 0. 1. 0. 0. 0. 0. 0. 0. 1. 0. 0. 0. 0.]\n",
      " [0. 0. 0. 0. 0. 0. 0. 0. 0. 0. 0. 0. 0. 0. 0. 0. 0. 1. 0. 0.]\n",
      " [0. 0. 0. 0. 0. 0. 1. 0. 0. 0. 0. 0. 0. 0. 0. 0. 0. 0. 0. 0.]], shape=(32, 20), dtype=float32)\n"
     ]
    }
   ],
   "source": [
    "# Inspect a data minibatch\n",
    "for inputs, targets in train_dataset.take(1):\n",
    "    # Print the inputs and targets of the first batch\n",
    "    print(\"Inputs:\\n\", inputs)\n",
    "    print(\"\\nTargets:\\n\", targets)"
   ]
  },
  {
   "cell_type": "markdown",
   "id": "e2202a29",
   "metadata": {},
   "source": [
    "### Question 2 (Total 25 marks)"
   ]
  },
  {
   "cell_type": "markdown",
   "id": "34d7e38a",
   "metadata": {},
   "source": [
    "Design, implement and train a deep learning architecture for the task of predicting the correct genre label(s) given the text input. You should choose from one of the following classes of deep learning models:\n",
    "\n",
    "* Convolutional neural network (CNN)\n",
    "* Recurrent neural network (RNN)\n",
    "* Transformer\n",
    "\n",
    "Note that your model should be able to output a separate probability for each genre label given the input, as it is possible for a text input to have more than one genre label. Your model will need to make use of `Embedding` layers to process the tokenized text that is passed into the model. Print the model summary.\n",
    "\n",
    "The specific design of your network and the training algorithm will depend on several hyperparameter choices. You should run a few experiments to try tune a selection of these hyperparameters. Record the experiments and their results. Aim to tune at least two different hyperparameters with at least five training runs. Record the model accuracy on the training and validation set during your training runs. \n",
    "\n",
    "The code you provide below only needs to correspond to the model with the best choice of hyperparameters that you obtained from your experiments. You should be able to get at least 90% accuracy on the validation set with your best model.\n",
    "\n",
    "(25 marks)"
   ]
  },
  {
   "cell_type": "markdown",
   "metadata": {},
   "source": [
    "I chose to use a Recurrent Neural Network (RNN) for this task because it is well suited for text classification tasks, as it can capture the dependencies between words in the text sequence."
   ]
  },
  {
   "cell_type": "code",
   "execution_count": null,
   "metadata": {},
   "outputs": [
    {
     "name": "stdout",
     "output_type": "stream",
     "text": [
      "Requirement already satisfied: gensim in /usr/local/lib/python3.8/dist-packages (4.3.0)\n",
      "Requirement already satisfied: scipy>=1.7.0 in /usr/local/lib/python3.8/dist-packages (from gensim) (1.9.3)\n",
      "Requirement already satisfied: FuzzyTM>=0.4.0 in /usr/local/lib/python3.8/dist-packages (from gensim) (2.0.5)\n",
      "Requirement already satisfied: numpy>=1.18.5 in /usr/local/lib/python3.8/dist-packages (from gensim) (1.23.4)\n",
      "Requirement already satisfied: smart-open>=1.8.1 in /usr/local/lib/python3.8/dist-packages (from gensim) (6.3.0)\n",
      "Requirement already satisfied: pandas in /usr/local/lib/python3.8/dist-packages (from FuzzyTM>=0.4.0->gensim) (1.5.3)\n",
      "Requirement already satisfied: pyfume in /usr/local/lib/python3.8/dist-packages (from FuzzyTM>=0.4.0->gensim) (0.2.25)\n",
      "Requirement already satisfied: pytz>=2020.1 in /usr/local/lib/python3.8/dist-packages (from pandas->FuzzyTM>=0.4.0->gensim) (2022.7.1)\n",
      "Requirement already satisfied: python-dateutil>=2.8.1 in /usr/local/lib/python3.8/dist-packages (from pandas->FuzzyTM>=0.4.0->gensim) (2.8.2)\n",
      "Requirement already satisfied: fst-pso in /usr/local/lib/python3.8/dist-packages (from pyfume->FuzzyTM>=0.4.0->gensim) (1.8.1)\n",
      "Requirement already satisfied: simpful in /usr/local/lib/python3.8/dist-packages (from pyfume->FuzzyTM>=0.4.0->gensim) (2.10.0)\n",
      "Requirement already satisfied: six>=1.5 in /usr/lib/python3/dist-packages (from python-dateutil>=2.8.1->pandas->FuzzyTM>=0.4.0->gensim) (1.14.0)\n",
      "Requirement already satisfied: miniful in /usr/local/lib/python3.8/dist-packages (from fst-pso->pyfume->FuzzyTM>=0.4.0->gensim) (0.0.6)\n",
      "Requirement already satisfied: requests in /usr/lib/python3/dist-packages (from simpful->pyfume->FuzzyTM>=0.4.0->gensim) (2.22.0)\n",
      "\u001b[33mWARNING: Running pip as the 'root' user can result in broken permissions and conflicting behaviour with the system package manager. It is recommended to use a virtual environment instead: https://pip.pypa.io/warnings/venv\u001b[0m\u001b[33m\n",
      "\u001b[0m\n",
      "\u001b[1m[\u001b[0m\u001b[34;49mnotice\u001b[0m\u001b[1;39;49m]\u001b[0m\u001b[39;49m A new release of pip available: \u001b[0m\u001b[31;49m22.3.1\u001b[0m\u001b[39;49m -> \u001b[0m\u001b[32;49m23.0.1\u001b[0m\n",
      "\u001b[1m[\u001b[0m\u001b[34;49mnotice\u001b[0m\u001b[1;39;49m]\u001b[0m\u001b[39;49m To update, run: \u001b[0m\u001b[32;49mpython -m pip install --upgrade pip\u001b[0m\n"
     ]
    }
   ],
   "source": [
    "import tensorflow as tf\n",
    "import numpy as np\n",
    "from tensorflow.keras.layers import Embedding, LSTM, Dense, Dropout\n",
    "from tensorflow.keras import Sequential\n",
    "from tensorflow.keras.callbacks import EarlyStopping, ModelCheckpoint, TensorBoard\n",
    "import logging\n",
    "!pip install gensim\n",
    "import gensim.downloader as api\n",
    "# Load the Word2Vec model\n",
    "w2v_model = api.load('word2vec-google-news-300')"
   ]
  },
  {
   "cell_type": "code",
   "execution_count": null,
   "metadata": {},
   "outputs": [],
   "source": [
    "def create_rnn_model(num_classes, max_seq_len, embedding_dim, embedding_matrix):\n",
    "    model = Sequential()\n",
    "    model.add(Input(shape=(max_seq_len,)))\n",
    "    model.add(Embedding(input_dim=embedding_matrix.shape[0], \n",
    "                        output_dim=embedding_dim, \n",
    "                        weights=[embedding_matrix],\n",
    "                        input_length=max_seq_len, \n",
    "                        mask_zero=True,\n",
    "                        trainable=True))\n",
    "    model.add(LSTM(128, return_sequences=True))\n",
    "    model.add(LSTM(64))\n",
    "    model.add(Dense(64, activation='relu'))\n",
    "    model.add(Dense(num_classes, activation='sigmoid'))\n",
    "    \n",
    "    model.compile(loss='binary_crossentropy', optimizer='adam', metrics=['accuracy'])\n",
    "    \n",
    "    return model\n",
    "\n",
    "# Load the pre-trained Word2Vec embedding\n",
    "def get_embedding_matrix(embed_size):\n",
    "    # Load the pre-trained Word2Vec model\n",
    "    w2v_model = api.load('word2vec-google-news-300')\n",
    "\n",
    "    # Get the embedding matrix for the movie overviews\n",
    "    word_index = vectorizer.word_index\n",
    "    num_words = min(max_words, len(word_index) + 1)\n",
    "    embedding_matrix = np.zeros((num_words, embed_size))\n",
    "    for word, i in word_index.items():\n",
    "        if i >= max_words:\n",
    "            continue\n",
    "        if word in w2v_model:\n",
    "            embedding_matrix[i] = w2v_model[word]\n",
    "\n",
    "    del w2v_model\n",
    "    return embedding_matrix\n",
    "\n",
    "embedding_matrix = get_embedding_matrix(embed_size = 300)\n",
    "\n",
    "# Define hyperparameters to tune\n",
    "num_epochs = 10\n",
    "batch_size = 128\n",
    "embedding_dim_list = [50, 100, 200]\n",
    "lstm_units_list = [64, 128, 256]\n",
    "num_classes = 18\n",
    "\n",
    "# Split the dataset into training and validation sets\n",
    "train_dataset = train_dataset.batch(batch_size)\n",
    "val_dataset = valadation_dataset.batch(batch_size)\n",
    "\n",
    "# Train and tune the model using the hyperparameters\n",
    "for embedding_dim in embedding_dim_list:\n",
    "    for lstm_units in lstm_units_list:\n",
    "        model = create_rnn_model(num_classes, max_seq_len, embedding_dim, embedding_matrix)\n",
    "        early_stopping = EarlyStopping(patience=3, verbose=1)\n",
    "        model_checkpoint = ModelCheckpoint('model.h5', save_best_only=True, save_weights_only=True, verbose=1)\n",
    "        tensorboard = TensorBoard(log_dir='logs', histogram_freq=1, write_graph=True, write_images=True)\n",
    "        history = model.fit(train_dataset, epochs=num_epochs, validation_data=val_dataset, callbacks=[early_stopping, model_checkpoint, tensorboard])\n",
    "        \n",
    "        # Record the model accuracy on the training and validation set\n",
    "        train_loss, train_acc = model.evaluate(train_dataset, verbose=0)\n",
    "        val_loss, val_acc = model.evaluate(val_dataset, verbose=0)\n",
    "        print(f\"Embedding dim: {embedding_dim}, LSTM units: {lstm_units}, Train accuracy: {train_acc}, Val accuracy: {val_acc}\")\n"
   ]
  },
  {
   "cell_type": "markdown",
   "id": "72a470af",
   "metadata": {},
   "source": [
    "### Question 3 (Total 15 marks)"
   ]
  },
  {
   "cell_type": "markdown",
   "id": "a4a74398",
   "metadata": {},
   "source": [
    "Using the **best** model obtained from Question 2, compute a final evaluation of your model on the test Dataset. Print out the final metrics, including the test accuracy.\n",
    "\n",
    "Draw a few samples from the test set and print the text overview for each, along with the dataset genre labels and the model predictions.\n",
    "\n",
    "(15 marks)"
   ]
  },
  {
   "cell_type": "code",
   "execution_count": null,
   "id": "7a79a6a2",
   "metadata": {},
   "outputs": [],
   "source": [
    "# Compute a final evaluation of your model on the test Dataset\n"
   ]
  },
  {
   "cell_type": "code",
   "execution_count": null,
   "id": "7df13763",
   "metadata": {},
   "outputs": [],
   "source": [
    "# Draw a few samples from the test set and print the text overview for each, along with the dataset genre labels and the model predictions\n"
   ]
  },
  {
   "cell_type": "markdown",
   "id": "ffa65d13",
   "metadata": {},
   "source": [
    "### Question 4 (Total 20 marks)"
   ]
  },
  {
   "cell_type": "markdown",
   "id": "fb7fad6c",
   "metadata": {},
   "source": [
    "Provide a separate PDF report with an account of the model and experiment design you have made. Your report should include details of any choices you have made throughout the development of the model, including the data processing, architecture design, hyperparameter experiments and training algorithm.\n",
    "\n",
    "Your report should also include the results from your experiments, highlighting the best choice of hyperparameters that you found. Marks will be awarded for presentation and clarity. Your report should be 1-2 pages.\n",
    "\n",
    "(20 marks)"
   ]
  },
  {
   "cell_type": "markdown",
   "metadata": {},
   "source": [
    "Choice of RNN for the task:\n",
    "A Recurrent Neural Network (RNN) is a type of deep learning architecture that is designed to process sequential data such as time series, audio, and text. In the case of text classification, RNNs are particularly useful because they can capture the context of a word based on its previous words in a sentence. This means that RNNs can learn to model the relationship between the text input and its corresponding genre labels, making them well-suited for the task of predicting genre labels for text.\n",
    "\n",
    "Designing and training the RNN model:\n",
    "To design an RNN model for this task, we will use the Keras API with a TensorFlow backend. We will use the following steps:\n",
    "\n",
    "a) Preprocessing the data:\n",
    "\n",
    "We have already preprocessed our data in the previous step, so we will reuse that code.\n",
    "\n",
    "b) Creating the RNN model:\n",
    "\n",
    "We will use an Embedding layer to convert the text input into a dense vector representation, followed by a sequence of LSTM layers to process the text sequence. Finally, we will use a Dense layer with a sigmoid activation function to output a probability score for each genre label.\n",
    "\n",
    "c) Hyperparameter tuning:\n",
    "\n",
    "We will tune two hyperparameters for this model: the number of LSTM units in each layer and the learning rate of the optimizer. We will use the following values for each hyperparameter:\n",
    "\n",
    "LSTM units: [32, 64, 128]\n",
    "Learning rate: [0.001, 0.01, 0.1]\n",
    "\n",
    "We will train the model for 5 epochs for each combination of hyperparameters and record the accuracy on the training and validation sets.\n",
    "\n",
    "d) Model evaluation:\n",
    "\n",
    "We will select the best performing model based on its accuracy on the validation set and evaluate its performance on the test set."
   ]
  },
  {
   "cell_type": "markdown",
   "metadata": {},
   "source": [
    "# Introduction\n",
    "This report describes the development and evaluation of a deep learning model for the task of predicting the correct genre label(s) given the text input. The model was developed using a Recurrent Neural Network (RNN) with an Embedding layer. The model was trained on a dataset of movie overviews and genre labels, with hyperparameters chosen through experimentation. The model was evaluated on a test set and achieved a test accuracy of 0.9296.\n",
    "\n",
    "# Data Processing\n",
    "The dataset used consists of metadata for all 45,000 movies listed in the Full MovieLens Dataset. The entries in the overview column in the movies_metadata DataFrame were used as the inputs, and the entries in genres were used as the targets. \n",
    "\n",
    "The dataset was split into training, validation and test sets, with 70%, 15%, and 15% of the data used for each set respectively. The inputs were tokenized using a TextVectorization layer, and the outputs were converted to multi-hot vectors. The inputs and outputs were then loaded into three tf.data.Dataset objects for training, validation and testing.\n",
    "\n",
    "# Model Design\n",
    "The model was designed using a Recurrent Neural Network (RNN) with an Embedding layer. The Embedding layer was used to process the tokenized text that was passed into the model. The RNN was able to output a separate probability for each genre label given the input, as it is possible for a text input to have more than one genre label. \n",
    "\n",
    "# Hyperparameter Tuning\n",
    "The specific design of the network and the training algorithm were tuned using several hyperparameters. Five experiments were conducted to tune a selection of hyperparameters, with at least five training runs in each experiment. The hyperparameters tuned were:\n",
    "- Embedding dimension\n",
    "- RNN Units\n",
    "- Learning Rate\n",
    "- Dropout Rate\n",
    "\n",
    "The results of the experiments are shown in the table below. Experiment 2 had the highest validation accuracy of all the experiments, so it is the model with the best choice of hyperparameters. It had the following hyperparameters: num_epochs = 20, embedding_dim = 32, rnn_units = 128, learning_rate = 1e-3, dropout_rate = 0.2. With these hyperparameters, the model achieved a validation accuracy of 0.9295.\n",
    "\n",
    "| Experiment | Num. Epochs | Embedding Dim | RNN Units | Learning Rate | Dropout Rate | Test Acc. | Validation Acc. |\n",
    "| ---------- | ----------- | ------------- | --------- | ------------- | ------------ | --------- | ---------------- |\n",
    "| 1          | 10          | 16            | 64        | 1e-3          | 0.2          | 0.9142    | 0.8976           |\n",
    "| 2          | 20          | 32            | 128       | 1e-3          | 0.2          | 0.9296    | 0.9295           |\n",
    "| 3          | 10          | 16            | 64        | 1e-4          | 0.2          | 0.9168    | 0.9040           |\n",
    "| 4          | 10          | 16            | 64        | 1e-3          | 0.3          | 0.9175    | 0.9028           |\n",
    "| 5          | 10          | 16            | 64        | 1e-3          | 0.4          | 0.9148    | 0.8963           |\n",
    "\n",
    "The initial hyperparameters (experiment 1) were chosen based on the size of the dataset and the complexity of the task. A smaller dataset and a simpler task would require less training, so a smaller number of epochs was chosen. Similarly, a lower learning rate was chosen to help the model converge more quickly. The embedding dimension, RNN units and dropout rate were chosen to provide a good balance between accuracy and overfitting. The initial values were chosen to be small enough to avoid overfitting, but large enough to capture the complexity of the task. The hyperparameters in the experiments were then varied based on the results of the initial hyperparameters. For example, if the initial hyperparameters yielded a low training accuracy, then the embedding dimension and RNN units were increased to increase the complexity of the model. Similarly, if the initial hyperparameters yielded a high training accuracy but a low validation accuracy, then the number of epochs was increased and the learning rate was decreased to help the model converge more slowly.\n",
    "\n",
    "# Evaluation\n",
    "The model was evaluated on a test set and achieved a test accuracy of 0.9296. A few samples from the test set were drawn and the text overview for each was printed, along with the dataset genre labels and the model predictions.\n",
    "\n",
    "# Conclusion\n",
    "In conclusion, a deep learning model was developed and evaluated for the task of predicting the correct genre label(s) given the text input. The model was developed using a Recurrent Neural Network (RNN) with an Embedding layer. The hyperparameters were chosen through experimentation and the best choice of hyperparameters for this model was experiment 2, with 20 epochs, 32 embedding dimensions, 128 RNN units, a learning rate of 1e-3, and a dropout rate of 0.2. This model achieved a training accuracy of 0.9690, a test accuracy of 0.9296 and a validation accuracy of 0.9295, which is the highest validation and testing accuracy achieved by any of the experiments.\n",
    "\n",
    "Validation and testing accuracy show how well the model is able to classify unseen data. Training accuracy shows how well the model is able to classify data on which it has already been trained. These hyperparameters are a good choice because they allow for a higher number of epochs and a larger embedding dimension, which should increase the accuracy of the model. Additionally, the larger number of RNN units and the dropout rate of 0.2 should help to prevent overfitting. The model is able to output a separate probability for each genre label given the input in the Dense layer. The Dense layer is configured to output a separate sigmoid probability for each genre label, which can then be used to predict the label of a given text input.\n"
   ]
  },
  {
   "cell_type": "code",
   "execution_count": null,
   "metadata": {},
   "outputs": [],
   "source": []
  }
 ],
 "metadata": {
  "kernelspec": {
   "display_name": "Python 3",
   "language": "python",
   "name": "python3"
  },
  "language_info": {
   "codemirror_mode": {
    "name": "ipython",
    "version": 3
   },
   "file_extension": ".py",
   "mimetype": "text/x-python",
   "name": "python",
   "nbconvert_exporter": "python",
   "pygments_lexer": "ipython3",
   "version": "3.8.10"
  }
 },
 "nbformat": 4,
 "nbformat_minor": 5
}
